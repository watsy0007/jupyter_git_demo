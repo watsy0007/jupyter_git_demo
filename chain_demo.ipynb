{
 "cells": [
  {
   "cell_type": "code",
   "execution_count": null,
   "id": "fec7f9a0-4c3c-4d72-b0e8-ce8f503ca3ba",
   "metadata": {},
   "outputs": [],
   "source": [
    "print(\"hello\")"
   ]
  },
  {
   "cell_type": "code",
   "execution_count": null,
   "id": "7b8eee4d-d139-4f12-88cb-31c3c469ae05",
   "metadata": {},
   "outputs": [],
   "source": [
    "print(\"oppps\")"
   ]
  },
  {
   "cell_type": "code",
   "execution_count": null,
   "id": "983c7067-bd0d-4b93-a3e4-b79da84a1693",
   "metadata": {},
   "outputs": [],
   "source": []
  }
 ],
 "metadata": {
  "kernelspec": {
   "display_name": "Python 3 (ipykernel)",
   "language": "python",
   "name": "python3"
  },
  "language_info": {
   "codemirror_mode": {
    "name": "ipython",
    "version": 3
   },
   "file_extension": ".py",
   "mimetype": "text/x-python",
   "name": "python",
   "nbconvert_exporter": "python",
   "pygments_lexer": "ipython3",
   "version": "3.11.5"
  }
 },
 "nbformat": 4,
 "nbformat_minor": 5
}
